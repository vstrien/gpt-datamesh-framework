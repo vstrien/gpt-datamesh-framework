{
 "cells": [
  {
   "attachments": {},
   "cell_type": "markdown",
   "metadata": {},
   "source": [
    "This Orchestrator Notebook uses the `dbutils.notebook.run` function to execute each of the notebooks in the correct order, ensuring that the data processing pipeline is executed smoothly. The `timeout_seconds=0` parameter ensures that the notebook run will not time out.\n",
    "\n"
   ]
  },
  {
   "cell_type": "code",
   "execution_count": null,
   "metadata": {},
   "outputs": [],
   "source": [
    "# Import required libraries\n",
    "from databricks import dbutils\n",
    "\n",
    "# Define the paths tothe notebooks\n",
    "data_ingestion_notebook_path = \"/path/to/your/data_ingestion_notebook\"\n",
    "base_notebook_path = \"/path/to/your/base_notebook\"\n",
    "data_transformation_notebook_path = \"/path/to/your/data_transformation_notebook\"\n",
    "data_quality_notebook_path = \"/path/to/your/data_quality_notebook\"\n",
    "data_output_notebook_path = \"/path/to/your/data_output_notebook\"\n",
    "\n",
    "# Run the Data Ingestion Notebook\n",
    "dbutils.notebook.run(data_ingestion_notebook_path, timeout_seconds=0)\n",
    "\n",
    "# Run the Data Transformation Notebook\n",
    "dbutils.notebook.run(data_transformation_notebook_path, timeout_seconds=0)\n",
    "\n",
    "# Run the Data Quality Notebook\n",
    "dbutils.notebook.run(data_quality_notebook_path, timeout_seconds=0)\n",
    "\n",
    "# Run the Data Output Notebook\n",
    "dbutils.notebook.run(data_output_notebook_path, timeout_seconds=0)"
   ]
  }
 ],
 "metadata": {
  "language_info": {
   "name": "python"
  },
  "orig_nbformat": 4
 },
 "nbformat": 4,
 "nbformat_minor": 2
}
